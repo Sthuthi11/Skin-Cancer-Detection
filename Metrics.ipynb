{
  "cells": [
    {
      "cell_type": "code",
      "source": [
        "#GOOGLENET, RESNET AND ENSEMBLE LEARNING:\n",
        "#Training Accuracy, Training Loss, Testing Accuracy, Testing Loss and Plots\n"
      ],
      "metadata": {
        "id": "w4jciKUDXAep"
      },
      "execution_count": null,
      "outputs": []
    },
    {
      "cell_type": "code",
      "execution_count": null,
      "metadata": {
        "colab": {
          "base_uri": "https://localhost:8080/"
        },
        "id": "YcM860Uv8VIN",
        "outputId": "a252d443-ee8e-48a4-ba99-4953debdefcb"
      },
      "outputs": [
        {
          "output_type": "stream",
          "name": "stdout",
          "text": [
            "\u001b[2K   \u001b[90m━━━━━━━━━━━━━━━━━━━━━━━━━━━━━━━━━━━━━━━━\u001b[0m \u001b[32m363.4/363.4 MB\u001b[0m \u001b[31m3.8 MB/s\u001b[0m eta \u001b[36m0:00:00\u001b[0m\n",
            "\u001b[2K   \u001b[90m━━━━━━━━━━━━━━━━━━━━━━━━━━━━━━━━━━━━━━━━\u001b[0m \u001b[32m13.8/13.8 MB\u001b[0m \u001b[31m42.5 MB/s\u001b[0m eta \u001b[36m0:00:00\u001b[0m\n",
            "\u001b[2K   \u001b[90m━━━━━━━━━━━━━━━━━━━━━━━━━━━━━━━━━━━━━━━━\u001b[0m \u001b[32m24.6/24.6 MB\u001b[0m \u001b[31m27.6 MB/s\u001b[0m eta \u001b[36m0:00:00\u001b[0m\n",
            "\u001b[2K   \u001b[90m━━━━━━━━━━━━━━━━━━━━━━━━━━━━━━━━━━━━━━━━\u001b[0m \u001b[32m883.7/883.7 kB\u001b[0m \u001b[31m22.4 MB/s\u001b[0m eta \u001b[36m0:00:00\u001b[0m\n",
            "\u001b[2K   \u001b[90m━━━━━━━━━━━━━━━━━━━━━━━━━━━━━━━━━━━━━━━━\u001b[0m \u001b[32m664.8/664.8 MB\u001b[0m \u001b[31m2.5 MB/s\u001b[0m eta \u001b[36m0:00:00\u001b[0m\n",
            "\u001b[2K   \u001b[90m━━━━━━━━━━━━━━━━━━━━━━━━━━━━━━━━━━━━━━━━\u001b[0m \u001b[32m211.5/211.5 MB\u001b[0m \u001b[31m6.0 MB/s\u001b[0m eta \u001b[36m0:00:00\u001b[0m\n",
            "\u001b[2K   \u001b[90m━━━━━━━━━━━━━━━━━━━━━━━━━━━━━━━━━━━━━━━━\u001b[0m \u001b[32m56.3/56.3 MB\u001b[0m \u001b[31m13.3 MB/s\u001b[0m eta \u001b[36m0:00:00\u001b[0m\n",
            "\u001b[2K   \u001b[90m━━━━━━━━━━━━━━━━━━━━━━━━━━━━━━━━━━━━━━━━\u001b[0m \u001b[32m127.9/127.9 MB\u001b[0m \u001b[31m7.5 MB/s\u001b[0m eta \u001b[36m0:00:00\u001b[0m\n",
            "\u001b[2K   \u001b[90m━━━━━━━━━━━━━━━━━━━━━━━━━━━━━━━━━━━━━━━━\u001b[0m \u001b[32m207.5/207.5 MB\u001b[0m \u001b[31m5.5 MB/s\u001b[0m eta \u001b[36m0:00:00\u001b[0m\n",
            "\u001b[2K   \u001b[90m━━━━━━━━━━━━━━━━━━━━━━━━━━━━━━━━━━━━━━━━\u001b[0m \u001b[32m21.1/21.1 MB\u001b[0m \u001b[31m100.0 MB/s\u001b[0m eta \u001b[36m0:00:00\u001b[0m\n",
            "\u001b[?25h"
          ]
        }
      ],
      "source": [
        "!pip install -q kaggle torchvision scikit-learn matplotlib seaborn\n",
        "\n",
        "import os\n",
        "import shutil\n",
        "import numpy as np\n",
        "import pandas as pd\n",
        "import matplotlib.pyplot as plt\n",
        "import seaborn as sns\n",
        "from PIL import Image\n",
        "from sklearn.model_selection import train_test_split\n",
        "from sklearn.metrics import roc_auc_score, precision_recall_curve, accuracy_score, confusion_matrix\n",
        "\n",
        "import torch\n",
        "import torch.nn as nn\n",
        "import torch.optim as optim\n",
        "from torch.utils.data import Dataset, DataLoader\n",
        "from torchvision import models, transforms\n"
      ]
    },
    {
      "cell_type": "code",
      "execution_count": null,
      "metadata": {
        "colab": {
          "base_uri": "https://localhost:8080/",
          "height": 160
        },
        "id": "o8sM1ekE8YdG",
        "outputId": "ff72eebb-2a6f-49e8-e96f-6e9aa222a11b"
      },
      "outputs": [
        {
          "output_type": "display_data",
          "data": {
            "text/plain": [
              "<IPython.core.display.HTML object>"
            ],
            "text/html": [
              "\n",
              "     <input type=\"file\" id=\"files-8297e66d-3233-42a6-8f16-e16d8bfe732d\" name=\"files[]\" multiple disabled\n",
              "        style=\"border:none\" />\n",
              "     <output id=\"result-8297e66d-3233-42a6-8f16-e16d8bfe732d\">\n",
              "      Upload widget is only available when the cell has been executed in the\n",
              "      current browser session. Please rerun this cell to enable.\n",
              "      </output>\n",
              "      <script>// Copyright 2017 Google LLC\n",
              "//\n",
              "// Licensed under the Apache License, Version 2.0 (the \"License\");\n",
              "// you may not use this file except in compliance with the License.\n",
              "// You may obtain a copy of the License at\n",
              "//\n",
              "//      http://www.apache.org/licenses/LICENSE-2.0\n",
              "//\n",
              "// Unless required by applicable law or agreed to in writing, software\n",
              "// distributed under the License is distributed on an \"AS IS\" BASIS,\n",
              "// WITHOUT WARRANTIES OR CONDITIONS OF ANY KIND, either express or implied.\n",
              "// See the License for the specific language governing permissions and\n",
              "// limitations under the License.\n",
              "\n",
              "/**\n",
              " * @fileoverview Helpers for google.colab Python module.\n",
              " */\n",
              "(function(scope) {\n",
              "function span(text, styleAttributes = {}) {\n",
              "  const element = document.createElement('span');\n",
              "  element.textContent = text;\n",
              "  for (const key of Object.keys(styleAttributes)) {\n",
              "    element.style[key] = styleAttributes[key];\n",
              "  }\n",
              "  return element;\n",
              "}\n",
              "\n",
              "// Max number of bytes which will be uploaded at a time.\n",
              "const MAX_PAYLOAD_SIZE = 100 * 1024;\n",
              "\n",
              "function _uploadFiles(inputId, outputId) {\n",
              "  const steps = uploadFilesStep(inputId, outputId);\n",
              "  const outputElement = document.getElementById(outputId);\n",
              "  // Cache steps on the outputElement to make it available for the next call\n",
              "  // to uploadFilesContinue from Python.\n",
              "  outputElement.steps = steps;\n",
              "\n",
              "  return _uploadFilesContinue(outputId);\n",
              "}\n",
              "\n",
              "// This is roughly an async generator (not supported in the browser yet),\n",
              "// where there are multiple asynchronous steps and the Python side is going\n",
              "// to poll for completion of each step.\n",
              "// This uses a Promise to block the python side on completion of each step,\n",
              "// then passes the result of the previous step as the input to the next step.\n",
              "function _uploadFilesContinue(outputId) {\n",
              "  const outputElement = document.getElementById(outputId);\n",
              "  const steps = outputElement.steps;\n",
              "\n",
              "  const next = steps.next(outputElement.lastPromiseValue);\n",
              "  return Promise.resolve(next.value.promise).then((value) => {\n",
              "    // Cache the last promise value to make it available to the next\n",
              "    // step of the generator.\n",
              "    outputElement.lastPromiseValue = value;\n",
              "    return next.value.response;\n",
              "  });\n",
              "}\n",
              "\n",
              "/**\n",
              " * Generator function which is called between each async step of the upload\n",
              " * process.\n",
              " * @param {string} inputId Element ID of the input file picker element.\n",
              " * @param {string} outputId Element ID of the output display.\n",
              " * @return {!Iterable<!Object>} Iterable of next steps.\n",
              " */\n",
              "function* uploadFilesStep(inputId, outputId) {\n",
              "  const inputElement = document.getElementById(inputId);\n",
              "  inputElement.disabled = false;\n",
              "\n",
              "  const outputElement = document.getElementById(outputId);\n",
              "  outputElement.innerHTML = '';\n",
              "\n",
              "  const pickedPromise = new Promise((resolve) => {\n",
              "    inputElement.addEventListener('change', (e) => {\n",
              "      resolve(e.target.files);\n",
              "    });\n",
              "  });\n",
              "\n",
              "  const cancel = document.createElement('button');\n",
              "  inputElement.parentElement.appendChild(cancel);\n",
              "  cancel.textContent = 'Cancel upload';\n",
              "  const cancelPromise = new Promise((resolve) => {\n",
              "    cancel.onclick = () => {\n",
              "      resolve(null);\n",
              "    };\n",
              "  });\n",
              "\n",
              "  // Wait for the user to pick the files.\n",
              "  const files = yield {\n",
              "    promise: Promise.race([pickedPromise, cancelPromise]),\n",
              "    response: {\n",
              "      action: 'starting',\n",
              "    }\n",
              "  };\n",
              "\n",
              "  cancel.remove();\n",
              "\n",
              "  // Disable the input element since further picks are not allowed.\n",
              "  inputElement.disabled = true;\n",
              "\n",
              "  if (!files) {\n",
              "    return {\n",
              "      response: {\n",
              "        action: 'complete',\n",
              "      }\n",
              "    };\n",
              "  }\n",
              "\n",
              "  for (const file of files) {\n",
              "    const li = document.createElement('li');\n",
              "    li.append(span(file.name, {fontWeight: 'bold'}));\n",
              "    li.append(span(\n",
              "        `(${file.type || 'n/a'}) - ${file.size} bytes, ` +\n",
              "        `last modified: ${\n",
              "            file.lastModifiedDate ? file.lastModifiedDate.toLocaleDateString() :\n",
              "                                    'n/a'} - `));\n",
              "    const percent = span('0% done');\n",
              "    li.appendChild(percent);\n",
              "\n",
              "    outputElement.appendChild(li);\n",
              "\n",
              "    const fileDataPromise = new Promise((resolve) => {\n",
              "      const reader = new FileReader();\n",
              "      reader.onload = (e) => {\n",
              "        resolve(e.target.result);\n",
              "      };\n",
              "      reader.readAsArrayBuffer(file);\n",
              "    });\n",
              "    // Wait for the data to be ready.\n",
              "    let fileData = yield {\n",
              "      promise: fileDataPromise,\n",
              "      response: {\n",
              "        action: 'continue',\n",
              "      }\n",
              "    };\n",
              "\n",
              "    // Use a chunked sending to avoid message size limits. See b/62115660.\n",
              "    let position = 0;\n",
              "    do {\n",
              "      const length = Math.min(fileData.byteLength - position, MAX_PAYLOAD_SIZE);\n",
              "      const chunk = new Uint8Array(fileData, position, length);\n",
              "      position += length;\n",
              "\n",
              "      const base64 = btoa(String.fromCharCode.apply(null, chunk));\n",
              "      yield {\n",
              "        response: {\n",
              "          action: 'append',\n",
              "          file: file.name,\n",
              "          data: base64,\n",
              "        },\n",
              "      };\n",
              "\n",
              "      let percentDone = fileData.byteLength === 0 ?\n",
              "          100 :\n",
              "          Math.round((position / fileData.byteLength) * 100);\n",
              "      percent.textContent = `${percentDone}% done`;\n",
              "\n",
              "    } while (position < fileData.byteLength);\n",
              "  }\n",
              "\n",
              "  // All done.\n",
              "  yield {\n",
              "    response: {\n",
              "      action: 'complete',\n",
              "    }\n",
              "  };\n",
              "}\n",
              "\n",
              "scope.google = scope.google || {};\n",
              "scope.google.colab = scope.google.colab || {};\n",
              "scope.google.colab._files = {\n",
              "  _uploadFiles,\n",
              "  _uploadFilesContinue,\n",
              "};\n",
              "})(self);\n",
              "</script> "
            ]
          },
          "metadata": {}
        },
        {
          "output_type": "stream",
          "name": "stdout",
          "text": [
            "Saving kaggle.json to kaggle.json\n",
            "Dataset URL: https://www.kaggle.com/datasets/kmader/skin-cancer-mnist-ham10000\n",
            "License(s): CC-BY-NC-SA-4.0\n",
            "Downloading skin-cancer-mnist-ham10000.zip to /content\n",
            " 99% 5.15G/5.20G [01:45<00:03, 16.3MB/s]\n",
            "100% 5.20G/5.20G [01:46<00:00, 52.7MB/s]\n"
          ]
        }
      ],
      "source": [
        "from google.colab import files\n",
        "files.upload()  # Upload kaggle.json\n",
        "\n",
        "!mkdir -p ~/.kaggle\n",
        "!cp kaggle.json ~/.kaggle/\n",
        "!chmod 600 ~/.kaggle/kaggle.json\n",
        "\n",
        "!kaggle datasets download -d kmader/skin-cancer-mnist-ham10000\n",
        "!unzip -q skin-cancer-mnist-ham10000.zip\n"
      ]
    },
    {
      "cell_type": "code",
      "execution_count": null,
      "metadata": {
        "id": "l66hPEnU8uED"
      },
      "outputs": [],
      "source": [
        "# Merge image folders\n",
        "os.makedirs(\"HAM10000_images\", exist_ok=True)\n",
        "for folder in ['HAM10000_images_part_1', 'HAM10000_images_part_2']:\n",
        "    for file in os.listdir(folder):\n",
        "        shutil.copy(os.path.join(folder, file), os.path.join(\"HAM10000_images\", file))\n",
        "\n",
        "# Load metadata\n",
        "df = pd.read_csv(\"HAM10000_metadata.csv\")\n",
        "df['label'] = df['dx'].apply(lambda x: 1 if x in ['mel', 'bkl', 'bcc', 'akiec'] else 0)\n"
      ]
    },
    {
      "cell_type": "code",
      "execution_count": null,
      "metadata": {
        "id": "hKefDKOq81qn"
      },
      "outputs": [],
      "source": [
        "class SkinLesionDataset(Dataset):\n",
        "    def __init__(self, df, img_dir, transform=None):\n",
        "        self.df = df.reset_index(drop=True)\n",
        "        self.img_dir = img_dir\n",
        "        self.transform = transform\n",
        "\n",
        "    def __len__(self):\n",
        "        return len(self.df)\n",
        "\n",
        "    def __getitem__(self, idx):\n",
        "        img_path = os.path.join(self.img_dir, self.df.loc[idx, 'image_id'] + '.jpg')\n",
        "        image = Image.open(img_path).convert('RGB')\n",
        "        label = self.df.loc[idx, 'label']\n",
        "        if self.transform:\n",
        "            image = self.transform(image)\n",
        "        return image, label\n",
        "\n",
        "transform = transforms.Compose([\n",
        "    transforms.Resize((224, 224)),\n",
        "    transforms.ToTensor(),\n",
        "    transforms.Normalize([0.5]*3, [0.5]*3)\n",
        "])\n",
        "\n",
        "# Train/val/test split\n",
        "train_df, test_df = train_test_split(df, test_size=0.2, stratify=df['label'], random_state=42)\n",
        "val_df, test_df = train_test_split(test_df, test_size=0.5, stratify=test_df['label'], random_state=42)\n",
        "\n",
        "def get_loaders(batch_size):\n",
        "    return (\n",
        "        DataLoader(SkinLesionDataset(train_df, \"HAM10000_images\", transform), batch_size=batch_size, shuffle=True),\n",
        "        DataLoader(SkinLesionDataset(val_df, \"HAM10000_images\", transform), batch_size=batch_size),\n",
        "        DataLoader(SkinLesionDataset(test_df, \"HAM10000_images\", transform), batch_size=batch_size)\n",
        "    )\n"
      ]
    },
    {
      "cell_type": "code",
      "source": [
        "import torch\n",
        "import torch.nn as nn\n",
        "import torch.optim as optim\n",
        "from sklearn.metrics import roc_auc_score\n",
        "import matplotlib.pyplot as plt\n",
        "\n",
        "# ====== Model Definition ======\n",
        "def get_model(model_name='resnet', dropout=0.3):\n",
        "    if model_name == 'resnet':\n",
        "        from torchvision.models import resnet18\n",
        "        model = resnet18(pretrained=True)\n",
        "        model.fc = nn.Sequential(\n",
        "            nn.Dropout(dropout),\n",
        "            nn.Linear(model.fc.in_features, 1)\n",
        "        )\n",
        "    elif model_name == 'googlenet':\n",
        "        from torchvision.models import googlenet\n",
        "        # aux_logits must be True if pretrained=True\n",
        "        model = googlenet(pretrained=True, aux_logits=True)\n",
        "        model.fc = nn.Sequential(\n",
        "            nn.Dropout(dropout),\n",
        "            nn.Linear(model.fc.in_features, 1)\n",
        "        )\n",
        "        # Optional: you can ignore aux_logits output during training\n",
        "        model.aux_logits = False  # Prevents using aux output in loss calculation\n",
        "    else:\n",
        "        raise ValueError(\"Invalid model name\")\n",
        "    return model\n",
        "\n",
        "# ====== Training Loop ======\n",
        "def train_model(model, optimizer, criterion, train_loader, val_loader, epochs, device='cuda'):\n",
        "    model.to(device)\n",
        "    history = {\n",
        "        'train_loss': [],\n",
        "        'train_acc': [],\n",
        "        'val_loss': [],\n",
        "        'val_acc': [],\n",
        "        'val_auc': []\n",
        "    }\n",
        "\n",
        "    best_auc = 0.0\n",
        "    best_model_wts = model.state_dict()\n",
        "\n",
        "    for epoch in range(epochs):\n",
        "        model.train()\n",
        "        train_loss, correct, total = 0.0, 0, 0\n",
        "\n",
        "        for inputs, labels in train_loader:\n",
        "            inputs, labels = inputs.to(device), labels.to(device).float()\n",
        "            optimizer.zero_grad()\n",
        "            outputs = model(inputs).squeeze()\n",
        "            loss = criterion(outputs, labels)\n",
        "            loss.backward()\n",
        "            optimizer.step()\n",
        "\n",
        "            train_loss += loss.item() * inputs.size(0)\n",
        "            preds = (torch.sigmoid(outputs) >= 0.5).float()\n",
        "            correct += (preds == labels).sum().item()\n",
        "            total += labels.size(0)\n",
        "\n",
        "        epoch_train_loss = train_loss / total\n",
        "        epoch_train_acc = correct / total\n",
        "\n",
        "        # ===== Validation =====\n",
        "        model.eval()\n",
        "        val_loss, val_correct, val_total = 0.0, 0, 0\n",
        "        val_preds, val_labels = [], []\n",
        "\n",
        "        with torch.no_grad():\n",
        "            for inputs, labels in val_loader:\n",
        "                inputs, labels = inputs.to(device), labels.to(device).float()\n",
        "                outputs = model(inputs).squeeze()\n",
        "                loss = criterion(outputs, labels)\n",
        "\n",
        "                val_loss += loss.item() * inputs.size(0)\n",
        "                probs = torch.sigmoid(outputs)\n",
        "                preds = (probs >= 0.5).float()\n",
        "\n",
        "                val_preds.extend(probs.cpu().numpy())\n",
        "                val_labels.extend(labels.cpu().numpy())\n",
        "                val_correct += (preds == labels).sum().item()\n",
        "                val_total += labels.size(0)\n",
        "\n",
        "        epoch_val_loss = val_loss / val_total\n",
        "        epoch_val_acc = val_correct / val_total\n",
        "        epoch_val_auc = roc_auc_score(val_labels, val_preds)\n",
        "\n",
        "        if epoch_val_auc > best_auc:\n",
        "            best_auc = epoch_val_auc\n",
        "            best_model_wts = model.state_dict()\n",
        "            torch.save(model.state_dict(), \"best_model.pth\")\n",
        "\n",
        "        history['train_loss'].append(epoch_train_loss)\n",
        "        history['train_acc'].append(epoch_train_acc)\n",
        "        history['val_loss'].append(epoch_val_loss)\n",
        "        history['val_acc'].append(epoch_val_acc)\n",
        "        history['val_auc'].append(epoch_val_auc)\n",
        "\n",
        "        print(f\"Epoch {epoch+1}/{epochs} | \"\n",
        "              f\"Train Loss: {epoch_train_loss:.4f}, Acc: {epoch_train_acc:.4f} | \"\n",
        "              f\"Val Loss: {epoch_val_loss:.4f}, Acc: {epoch_val_acc:.4f}, AUC: {epoch_val_auc:.4f}\")\n",
        "\n",
        "    model.load_state_dict(best_model_wts)\n",
        "    return history\n",
        "\n",
        "# ====== Plotting Function ======\n",
        "def plot_train_metrics(history, model_name):\n",
        "    epochs = range(1, len(history['train_loss']) + 1)\n",
        "\n",
        "    plt.figure(figsize=(12, 5))\n",
        "\n",
        "    # Loss plot\n",
        "    plt.subplot(1, 2, 1)\n",
        "    plt.plot(epochs, history['train_loss'], label='Train Loss')\n",
        "    plt.plot(epochs, history['val_loss'], label='Val Loss')\n",
        "    plt.xlabel('Epoch')\n",
        "    plt.ylabel('Loss')\n",
        "    plt.title(f'{model_name.upper()} - Loss')\n",
        "    plt.legend()\n",
        "\n",
        "    # Accuracy plot\n",
        "    plt.subplot(1, 2, 2)\n",
        "    plt.plot(epochs, history['train_acc'], label='Train Accuracy')\n",
        "    plt.plot(epochs, history['val_acc'], label='Val Accuracy')\n",
        "    plt.xlabel('Epoch')\n",
        "    plt.ylabel('Accuracy')\n",
        "    plt.title(f'{model_name.upper()} - Accuracy')\n",
        "    plt.legend()\n",
        "\n",
        "    plt.tight_layout()\n",
        "    plt.show()\n",
        "\n",
        "# ====== Testing Function ======\n",
        "def evaluate_on_test(model, test_loader, device='cuda'):\n",
        "    model.to(device)\n",
        "    model.eval()\n",
        "    criterion = nn.BCEWithLogitsLoss()\n",
        "    total_loss, correct, total = 0.0, 0, 0\n",
        "    y_true, y_probs = [], []\n",
        "\n",
        "    with torch.no_grad():\n",
        "        for inputs, labels in test_loader:\n",
        "            inputs, labels = inputs.to(device), labels.to(device).float()\n",
        "            outputs = model(inputs).squeeze()\n",
        "            loss = criterion(outputs, labels)\n",
        "            total_loss += loss.item() * inputs.size(0)\n",
        "\n",
        "            probs = torch.sigmoid(outputs)\n",
        "            preds = (probs >= 0.5).float()\n",
        "\n",
        "            y_probs.extend(probs.cpu().numpy())\n",
        "            y_true.extend(labels.cpu().numpy())\n",
        "            correct += (preds == labels).sum().item()\n",
        "            total += labels.size(0)\n",
        "\n",
        "    avg_loss = total_loss / total\n",
        "    acc = correct / total\n",
        "    auc = roc_auc_score(y_true, y_probs)\n",
        "\n",
        "    return acc, auc, avg_loss\n"
      ],
      "metadata": {
        "id": "FbRPentTLZL6"
      },
      "execution_count": null,
      "outputs": []
    },
    {
      "cell_type": "code",
      "source": [
        "# ==== Hyperparameters ====\n",
        "model_name = 'googlenet'  # or 'resnet'\n",
        "dropout = 0.3\n",
        "lr = 1e-4\n",
        "batch_size = 32\n",
        "epochs = 5\n",
        "device = 'cuda' if torch.cuda.is_available() else 'cpu'\n",
        "\n",
        "# ==== Load Data ====\n",
        "train_loader, val_loader, test_loader = get_loaders(batch_size)  # <-- Replace with your function\n",
        "\n",
        "# ==== Initialize Model ====\n",
        "model = get_model(model_name, dropout)\n",
        "optimizer = optim.Adam(model.parameters(), lr=lr)\n",
        "criterion = nn.BCEWithLogitsLoss()\n",
        "\n",
        "# ==== Train ====\n",
        "history = train_model(model, optimizer, criterion, train_loader, val_loader, epochs, device)\n",
        "\n",
        "# ==== Plot ====\n",
        "plot_train_metrics(history, model_name)\n",
        "\n",
        "# ==== Final Training Metrics ====\n",
        "final_train_acc = history['train_acc'][-1]\n",
        "final_train_loss = history['train_loss'][-1]\n",
        "\n",
        "# ==== Test Evaluation ====\n",
        "model.load_state_dict(torch.load(\"best_model.pth\"))\n",
        "test_acc, test_auc, test_loss = evaluate_on_test(model, test_loader, device=device)\n",
        "\n",
        "# ==== Final Metrics Output ====\n",
        "print(\"\\n====== FINAL METRICS ======\")\n",
        "print(f\"Training Accuracy: {final_train_acc:.4f}\")\n",
        "print(f\"Training Loss:     {final_train_loss:.4f}\")\n",
        "print(f\"Testing Accuracy:  {test_acc:.4f}\")\n",
        "print(f\"Testing Loss:      {test_loss:.4f}\")\n"
      ],
      "metadata": {
        "colab": {
          "base_uri": "https://localhost:8080/",
          "height": 726
        },
        "id": "IaIugjzoT_rE",
        "outputId": "c7bebb0c-ee00-4e39-9c8a-81e2d3c178fe"
      },
      "execution_count": null,
      "outputs": [
        {
          "output_type": "stream",
          "name": "stderr",
          "text": [
            "/usr/local/lib/python3.11/dist-packages/torchvision/models/googlenet.py:341: UserWarning: auxiliary heads in the pretrained googlenet model are NOT pretrained, so make sure to train them\n",
            "  warnings.warn(\n"
          ]
        },
        {
          "output_type": "stream",
          "name": "stdout",
          "text": [
            "Epoch 1/5 | Train Loss: 0.3524, Acc: 0.8422 | Val Loss: 0.2754, Acc: 0.8831, AUC: 0.9435\n",
            "Epoch 2/5 | Train Loss: 0.2137, Acc: 0.9156 | Val Loss: 0.2790, Acc: 0.8731, AUC: 0.9507\n",
            "Epoch 3/5 | Train Loss: 0.1014, Acc: 0.9638 | Val Loss: 0.3280, Acc: 0.8781, AUC: 0.9381\n",
            "Epoch 4/5 | Train Loss: 0.0622, Acc: 0.9784 | Val Loss: 0.3139, Acc: 0.8801, AUC: 0.9537\n",
            "Epoch 5/5 | Train Loss: 0.0480, Acc: 0.9832 | Val Loss: 0.3626, Acc: 0.8891, AUC: 0.9439\n"
          ]
        },
        {
          "output_type": "display_data",
          "data": {
            "text/plain": [
              "<Figure size 1200x500 with 2 Axes>"
            ],
            "image/png": "[encoded data removed]"
          },
          "metadata": {}
        },
        {
          "output_type": "stream",
          "name": "stdout",
          "text": [
            "\n",
            "====== FINAL METRICS ======\n",
            "Training Accuracy: 0.9832\n",
            "Training Loss:     0.0480\n",
            "Testing Accuracy:  0.8872\n",
            "Testing Loss:      0.3120\n"
          ]
        }
      ]
    },
    {
      "cell_type": "code",
      "source": [
        "# ==== Hyperparameters ====\n",
        "model_name = 'resnet'\n",
        "dropout = 0.3\n",
        "lr = 1e-4\n",
        "batch_size = 32\n",
        "epochs = 5\n",
        "device = 'cuda' if torch.cuda.is_available() else 'cpu'\n",
        "\n",
        "# ==== Load Data ====\n",
        "train_loader, val_loader, test_loader = get_loaders(batch_size)  # <-- Replace with your function\n",
        "\n",
        "# ==== Initialize Model ====\n",
        "model = get_model(model_name, dropout)\n",
        "optimizer = optim.Adam(model.parameters(), lr=lr)\n",
        "criterion = nn.BCEWithLogitsLoss()\n",
        "\n",
        "# ==== Train ====\n",
        "history = train_model(model, optimizer, criterion, train_loader, val_loader, epochs, device)\n",
        "\n",
        "# ==== Plot ====\n",
        "plot_train_metrics(history, model_name)\n",
        "\n",
        "# ==== Final Training Metrics ====\n",
        "final_train_acc = history['train_acc'][-1]\n",
        "final_train_loss = history['train_loss'][-1]\n",
        "\n",
        "# ==== Test Evaluation ====\n",
        "model.load_state_dict(torch.load(\"best_model.pth\"))\n",
        "test_acc, test_auc, test_loss = evaluate_on_test(model, test_loader, device=device)\n",
        "\n",
        "# ==== Final Metrics Output ====\n",
        "print(\"\\n====== FINAL METRICS ======\")\n",
        "print(f\"Training Accuracy: {final_train_acc:.4f}\")\n",
        "print(f\"Training Loss:     {final_train_loss:.4f}\")\n",
        "print(f\"Testing Accuracy:  {test_acc:.4f}\")\n",
        "print(f\"Testing Loss:      {test_loss:.4f}\")\n"
      ],
      "metadata": {
        "colab": {
          "base_uri": "https://localhost:8080/",
          "height": 795
        },
        "id": "TKbOti7gLglt",
        "outputId": "cd64c46e-52f7-4d59-cd48-2142c9660b4e"
      },
      "execution_count": null,
      "outputs": [
        {
          "output_type": "stream",
          "name": "stderr",
          "text": [
            "/usr/local/lib/python3.11/dist-packages/torchvision/models/_utils.py:208: UserWarning: The parameter 'pretrained' is deprecated since 0.13 and may be removed in the future, please use 'weights' instead.\n",
            "  warnings.warn(\n",
            "/usr/local/lib/python3.11/dist-packages/torchvision/models/_utils.py:223: UserWarning: Arguments other than a weight enum or `None` for 'weights' are deprecated since 0.13 and may be removed in the future. The current behavior is equivalent to passing `weights=ResNet18_Weights.IMAGENET1K_V1`. You can also use `weights=ResNet18_Weights.DEFAULT` to get the most up-to-date weights.\n",
            "  warnings.warn(msg)\n",
            "Downloading: \"https://download.pytorch.org/models/resnet18-f37072fd.pth\" to /root/.cache/torch/hub/checkpoints/resnet18-f37072fd.pth\n",
            "100%|██████████| 44.7M/44.7M [00:00<00:00, 146MB/s]\n"
          ]
        },
        {
          "output_type": "stream",
          "name": "stdout",
          "text": [
            "Epoch 1/5 | Train Loss: 0.3440, Acc: 0.8470 | Val Loss: 0.2833, Acc: 0.8861, AUC: 0.9408\n",
            "Epoch 2/5 | Train Loss: 0.1920, Acc: 0.9225 | Val Loss: 0.2686, Acc: 0.8891, AUC: 0.9501\n",
            "Epoch 3/5 | Train Loss: 0.1055, Acc: 0.9588 | Val Loss: 0.2758, Acc: 0.8981, AUC: 0.9546\n",
            "Epoch 4/5 | Train Loss: 0.0666, Acc: 0.9750 | Val Loss: 0.3183, Acc: 0.8921, AUC: 0.9481\n",
            "Epoch 5/5 | Train Loss: 0.0357, Acc: 0.9884 | Val Loss: 0.3130, Acc: 0.8971, AUC: 0.9559\n"
          ]
        },
        {
          "output_type": "display_data",
          "data": {
            "text/plain": [
              "<Figure size 1200x500 with 2 Axes>"
            ],
            "image/png": "[encoded data removed]"
          },
          "metadata": {}
        },
        {
          "output_type": "stream",
          "name": "stdout",
          "text": [
            "\n",
            "====== FINAL METRICS ======\n",
            "Training Accuracy: 0.9884\n",
            "Training Loss:     0.0357\n",
            "Testing Accuracy:  0.9152\n",
            "Testing Loss:      0.2516\n"
          ]
        }
      ]
    },
    {
      "cell_type": "code",
      "source": [
        "def get_model():\n",
        "    model = models.resnet18(pretrained=True)\n",
        "    for param in model.parameters():\n",
        "        param.requires_grad = False  # Freeze backbone\n",
        "\n",
        "    in_features = model.fc.in_features\n",
        "    model.fc = nn.Sequential(\n",
        "        nn.Dropout(0.5),\n",
        "        nn.Linear(in_features, 1)\n",
        "    )\n",
        "    return model"
      ],
      "metadata": {
        "id": "OVbjM5osM7lr"
      },
      "execution_count": null,
      "outputs": []
    },
    {
      "cell_type": "code",
      "source": [
        "device = torch.device(\"cuda\" if torch.cuda.is_available() else \"cpu\")\n",
        "\n",
        "def train_model(model, optimizer, criterion, train_loader, val_loader, epochs=5):\n",
        "    model.to(device)\n",
        "    best_auc = 0\n",
        "    history = {'val_auc': []}\n",
        "\n",
        "    for epoch in range(epochs):\n",
        "        model.train()\n",
        "        for images, labels in train_loader:\n",
        "            images, labels = images.to(device), labels.float().to(device)\n",
        "            optimizer.zero_grad()\n",
        "            outputs = model(images).squeeze()\n",
        "            loss = criterion(outputs, labels)\n",
        "            loss.backward()\n",
        "            optimizer.step()\n",
        "\n",
        "        model.eval()\n",
        "        val_labels, val_scores = [], []\n",
        "        with torch.no_grad():\n",
        "            for images, labels in val_loader:\n",
        "                images = images.to(device)\n",
        "                outputs = model(images).squeeze()\n",
        "                probs = torch.sigmoid(outputs)\n",
        "                val_scores.extend(probs.cpu().numpy())\n",
        "                val_labels.extend(labels.numpy())\n",
        "\n",
        "        val_auc = roc_auc_score(val_labels, val_scores)\n",
        "        print(f\"Epoch {epoch+1}: AUC = {val_auc:.4f}\")\n",
        "        history['val_auc'].append(val_auc)\n",
        "\n",
        "        if val_auc > best_auc:\n",
        "            best_auc = val_auc\n",
        "            torch.save(model.state_dict(), \"best_model.pth\")\n",
        "\n",
        "    return history\n"
      ],
      "metadata": {
        "id": "3NO9TQxtNAoH"
      },
      "execution_count": null,
      "outputs": []
    },
    {
      "cell_type": "code",
      "source": [
        "def predict_image(image_path, model):\n",
        "    model.eval()\n",
        "    image = Image.open(image_path).convert('RGB')\n",
        "    transform_img = transforms.Compose([\n",
        "        transforms.Resize((128, 128)),\n",
        "        transforms.ToTensor(),\n",
        "        transforms.Normalize([0.5]*3, [0.5]*3)\n",
        "    ])\n",
        "    img_tensor = transform_img(image).unsqueeze(0).to(device)\n",
        "\n",
        "    with torch.no_grad():\n",
        "        output = model(img_tensor).squeeze()\n",
        "        prob = torch.sigmoid(output).item()\n",
        "        pred = \"Cancer\" if prob > 0.5 else \"Non-Cancer\"\n",
        "    print(f\"Prediction: {pred} (Probability: {prob:.2f})\")\n",
        "    plt.imshow(image)\n",
        "    plt.title(pred)\n",
        "    plt.axis('off')\n",
        "    plt.show()\n"
      ],
      "metadata": {
        "id": "vcKyi6oeNCC1"
      },
      "execution_count": null,
      "outputs": []
    },
    {
      "cell_type": "code",
      "source": [
        "from sklearn.metrics import accuracy_score, log_loss\n",
        "\n",
        "def compute_ensemble_metrics(y_true, y_pred_probs):\n",
        "    y_pred_labels = (y_pred_probs >= 0.5).astype(int)\n",
        "    acc = accuracy_score(y_true, y_pred_labels)\n",
        "    loss = log_loss(y_true, y_pred_probs)\n",
        "    return acc, loss\n"
      ],
      "metadata": {
        "id": "_E3DGt7zNNC8"
      },
      "execution_count": null,
      "outputs": []
    },
    {
      "cell_type": "code",
      "source": [
        "import torch\n",
        "import numpy as np\n",
        "from torch.nn.functional import sigmoid\n",
        "\n",
        "def get_all_preds(models, loader, device):\n",
        "    all_labels = []\n",
        "    all_soft_preds = []\n",
        "    all_hard_preds = []\n",
        "\n",
        "    for model in models:\n",
        "        model.eval()\n",
        "\n",
        "    with torch.no_grad():\n",
        "        for images, labels in loader:\n",
        "            images = images.to(device)\n",
        "            labels = labels.to(device).float()\n",
        "            all_labels.extend(labels.cpu().numpy())\n",
        "\n",
        "            outputs = []\n",
        "            for model in models:\n",
        "                out = model(images)\n",
        "                if isinstance(out, tuple):  # for GoogleNet\n",
        "                    out = out[0]\n",
        "                outputs.append(sigmoid(out).squeeze().cpu().numpy())\n",
        "\n",
        "            outputs = np.array(outputs)  # shape: (num_models, batch_size)\n",
        "            avg_probs = np.mean(outputs, axis=0)  # soft voting\n",
        "            hard_preds = np.round(np.mean(outputs >= 0.5, axis=0))  # hard voting majority\n",
        "\n",
        "            all_soft_preds.extend(avg_probs)\n",
        "            all_hard_preds.extend(hard_preds)\n",
        "\n",
        "    return np.array(all_labels), np.array(all_soft_preds), np.array(all_hard_preds)\n"
      ],
      "metadata": {
        "id": "9gaz4OWvaKKn"
      },
      "execution_count": null,
      "outputs": []
    },
    {
      "cell_type": "code",
      "source": [
        "from sklearn.metrics import accuracy_score, log_loss\n",
        "\n",
        "def compute_ensemble_metrics(y_true, y_probs):\n",
        "    y_preds = (y_probs >= 0.5).astype(int)\n",
        "    acc = accuracy_score(y_true, y_preds)\n",
        "    loss = log_loss(y_true, y_probs)\n",
        "    return acc, loss\n"
      ],
      "metadata": {
        "id": "voa3BbZpZ4j1"
      },
      "execution_count": null,
      "outputs": []
    },
    {
      "cell_type": "code",
      "source": [
        "def print_ensemble_results(y_true, y_soft_probs, y_hard_preds):\n",
        "    # Soft Voting Metrics\n",
        "    soft_train_acc, soft_train_loss = compute_ensemble_metrics(y_true, y_soft_probs)\n",
        "    soft_test_acc = accuracy_score(y_true, (y_soft_probs >= 0.5).astype(int))\n",
        "    soft_test_loss = log_loss(y_true, y_soft_probs)\n",
        "\n",
        "    # Hard Voting Metrics\n",
        "    hard_test_acc = accuracy_score(y_true, y_hard_preds)\n",
        "\n",
        "    print(\"\\n===== ENSEMBLE METRICS =====\")\n",
        "    print(\"---- Soft Voting ----\")\n",
        "    print(f\"Training Accuracy: {soft_train_acc:.4f}\")\n",
        "    print(f\"Training Loss:     {soft_train_loss:.4f}\")\n",
        "    print(f\"Testing Accuracy:  {soft_test_acc:.4f}\")\n",
        "    print(f\"Testing Loss:      {soft_test_loss:.4f}\")\n",
        "\n",
        "    print(\"\\n---- Hard Voting ----\")\n",
        "    print(f\"Testing Accuracy:  {hard_test_acc:.4f}\")\n",
        "    print(f\"Testing Loss:      Not Available (hard voting gives only labels)\")\n"
      ],
      "metadata": {
        "id": "ega9f3zZaQg2"
      },
      "execution_count": null,
      "outputs": []
    },
    {
      "cell_type": "code",
      "source": [
        "import torch\n",
        "import torch.nn as nn\n",
        "import torch.optim as optim\n",
        "from tqdm import tqdm\n",
        "\n",
        "def train_model(model, train_loader, val_loader, num_epochs=5, lr=1e-4, model_name=\"model.pth\"):\n",
        "    device = torch.device(\"cuda\" if torch.cuda.is_available() else \"cpu\")\n",
        "    model.to(device)\n",
        "\n",
        "    criterion = nn.BCEWithLogitsLoss()\n",
        "    optimizer = optim.Adam(model.parameters(), lr=lr)\n",
        "\n",
        "    best_val_acc = 0.0\n",
        "\n",
        "    for epoch in range(num_epochs):\n",
        "        model.train()\n",
        "        running_loss = 0.0\n",
        "\n",
        "        for images, labels in tqdm(train_loader, desc=f\"Epoch {epoch+1}/{num_epochs}\"):\n",
        "            images, labels = images.to(device), labels.to(device).float().unsqueeze(1)\n",
        "\n",
        "            optimizer.zero_grad()\n",
        "            outputs = model(images)\n",
        "            loss = criterion(outputs, labels)\n",
        "            loss.backward()\n",
        "            optimizer.step()\n",
        "\n",
        "            running_loss += loss.item()\n",
        "\n",
        "        avg_loss = running_loss / len(train_loader)\n",
        "        val_acc = evaluate_model(model, val_loader, device)\n",
        "\n",
        "        print(f\"Epoch {epoch+1}, Loss: {avg_loss:.4f}, Val Acc: {val_acc:.4f}\")\n",
        "\n",
        "        if val_acc > best_val_acc:\n",
        "            best_val_acc = val_acc\n",
        "            torch.save(model.state_dict(), model_name)\n",
        "            print(f\"✅ Saved Best Model: {model_name} (Val Acc: {val_acc:.4f})\")\n",
        "\n",
        "def evaluate_model(model, val_loader, device):\n",
        "    model.eval()\n",
        "    correct, total = 0, 0\n",
        "\n",
        "    with torch.no_grad():\n",
        "        for images, labels in val_loader:\n",
        "            images = images.to(device)\n",
        "            labels = labels.to(device)\n",
        "\n",
        "            outputs = model(images)\n",
        "            preds = torch.sigmoid(outputs).squeeze() > 0.5\n",
        "            correct += (preds.int() == labels).sum().item()\n",
        "            total += labels.size(0)\n",
        "\n",
        "    return correct / total\n"
      ],
      "metadata": {
        "id": "Ai8wUuQja8jd"
      },
      "execution_count": null,
      "outputs": []
    },
    {
      "cell_type": "code",
      "source": [
        "from torchvision.models import (\n",
        "    ResNet18_Weights, VGG16_Weights, MobileNet_V2_Weights,\n",
        "    DenseNet121_Weights, EfficientNet_B0_Weights, GoogLeNet_Weights\n",
        ")"
      ],
      "metadata": {
        "id": "DRpqLz38a_7c"
      },
      "execution_count": null,
      "outputs": []
    },
    {
      "cell_type": "code",
      "source": [
        "def get_model_resnet():\n",
        "    model = models.resnet18(pretrained=True)\n",
        "    for param in model.parameters():\n",
        "        param.requires_grad = False\n",
        "    model.fc = nn.Sequential(nn.Dropout(0.5), nn.Linear(model.fc.in_features, 1))\n",
        "    return model\n",
        "\n",
        "def get_model_vgg():\n",
        "    model = models.vgg16(pretrained=True)\n",
        "    for param in model.parameters():\n",
        "        param.requires_grad = False\n",
        "    model.classifier[6] = nn.Linear(model.classifier[6].in_features, 1)\n",
        "    return model\n",
        "\n",
        "def get_model_mobilenet():\n",
        "    model = models.mobilenet_v2(pretrained=True)\n",
        "    for param in model.parameters():\n",
        "        param.requires_grad = False\n",
        "    model.classifier[1] = nn.Linear(model.classifier[1].in_features, 1)\n",
        "    return model\n",
        "\n",
        "def get_model_densenet():\n",
        "    model = models.densenet121(pretrained=True)\n",
        "    for param in model.parameters():\n",
        "        param.requires_grad = False\n",
        "    model.classifier = nn.Linear(model.classifier.in_features, 1)\n",
        "    return model\n",
        "\n",
        "def get_model_efficientnet():\n",
        "    model = models.efficientnet_b0(pretrained=True)\n",
        "    for param in model.parameters():\n",
        "        param.requires_grad = False\n",
        "    model.classifier[1] = nn.Linear(model.classifier[1].in_features, 1)\n",
        "    return model\n",
        "\n",
        "def get_model_googlenet():\n",
        "    model = models.googlenet(pretrained=True, aux_logits=False)\n",
        "    for param in model.parameters():\n",
        "        param.requires_grad = False\n",
        "    model.fc = nn.Linear(model.fc.in_features, 1)\n",
        "    return model\n"
      ],
      "metadata": {
        "id": "uvjxPS_Raylw"
      },
      "execution_count": null,
      "outputs": []
    },
    {
      "cell_type": "code",
      "source": [
        "def get_model_googlenet():\n",
        "    model = models.googlenet(weights=GoogLeNet_Weights.DEFAULT)  # Default is aux_logits=True\n",
        "    for param in model.parameters():\n",
        "        param.requires_grad = False\n",
        "    model.fc = nn.Linear(model.fc.in_features, 1)\n",
        "\n",
        "    # Disable auxiliary classifiers by setting them to identity (optional)\n",
        "    model.aux1 = nn.Identity()\n",
        "    model.aux2 = nn.Identity()\n",
        "    return model\n"
      ],
      "metadata": {
        "id": "6v6tnBwGas9j"
      },
      "execution_count": null,
      "outputs": []
    },
    {
      "cell_type": "code",
      "source": [
        "train_model(get_model_resnet(), train_loader, val_loader, num_epochs=5, model_name=\"resnet.pth\")\n",
        "train_model(get_model_vgg(), train_loader, val_loader, num_epochs=5, model_name=\"vgg.pth\")\n",
        "train_model(get_model_mobilenet(), train_loader, val_loader, num_epochs=5, model_name=\"mobilenet.pth\")\n",
        "train_model(get_model_densenet(), train_loader, val_loader, num_epochs=5, model_name=\"densenet.pth\")\n",
        "train_model(get_model_efficientnet(), train_loader, val_loader, num_epochs=5, model_name=\"efficientnet.pth\")"
      ],
      "metadata": {
        "colab": {
          "base_uri": "https://localhost:8080/",
          "height": 1000
        },
        "id": "JyXjYe6XamOv",
        "outputId": "531b286e-4478-42b4-ca4d-79cadf23126e"
      },
      "execution_count": null,
      "outputs": [
        {
          "output_type": "stream",
          "name": "stderr",
          "text": [
            "Epoch 1/5: 100%|██████████| 251/251 [01:21<00:00,  3.10it/s]\n"
          ]
        },
        {
          "output_type": "stream",
          "name": "stdout",
          "text": [
            "Epoch 1, Loss: 0.6123, Val Acc: 0.7203\n",
            "✅ Saved Best Model: resnet.pth (Val Acc: 0.7203)\n"
          ]
        },
        {
          "output_type": "stream",
          "name": "stderr",
          "text": [
            "Epoch 2/5: 100%|██████████| 251/251 [01:20<00:00,  3.10it/s]\n"
          ]
        },
        {
          "output_type": "stream",
          "name": "stdout",
          "text": [
            "Epoch 2, Loss: 0.5298, Val Acc: 0.7772\n",
            "✅ Saved Best Model: resnet.pth (Val Acc: 0.7772)\n"
          ]
        },
        {
          "output_type": "stream",
          "name": "stderr",
          "text": [
            "Epoch 3/5: 100%|██████████| 251/251 [01:19<00:00,  3.16it/s]\n"
          ]
        },
        {
          "output_type": "stream",
          "name": "stdout",
          "text": [
            "Epoch 3, Loss: 0.4887, Val Acc: 0.7892\n",
            "✅ Saved Best Model: resnet.pth (Val Acc: 0.7892)\n"
          ]
        },
        {
          "output_type": "stream",
          "name": "stderr",
          "text": [
            "Epoch 4/5: 100%|██████████| 251/251 [01:22<00:00,  3.03it/s]\n"
          ]
        },
        {
          "output_type": "stream",
          "name": "stdout",
          "text": [
            "Epoch 4, Loss: 0.4634, Val Acc: 0.8102\n",
            "✅ Saved Best Model: resnet.pth (Val Acc: 0.8102)\n"
          ]
        },
        {
          "output_type": "stream",
          "name": "stderr",
          "text": [
            "Epoch 5/5: 100%|██████████| 251/251 [01:29<00:00,  2.80it/s]\n"
          ]
        },
        {
          "output_type": "stream",
          "name": "stdout",
          "text": [
            "Epoch 5, Loss: 0.4452, Val Acc: 0.8122\n",
            "✅ Saved Best Model: resnet.pth (Val Acc: 0.8122)\n"
          ]
        },
        {
          "output_type": "stream",
          "name": "stderr",
          "text": [
            "/usr/local/lib/python3.11/dist-packages/torchvision/models/_utils.py:223: UserWarning: Arguments other than a weight enum or `None` for 'weights' are deprecated since 0.13 and may be removed in the future. The current behavior is equivalent to passing `weights=VGG16_Weights.IMAGENET1K_V1`. You can also use `weights=VGG16_Weights.DEFAULT` to get the most up-to-date weights.\n",
            "  warnings.warn(msg)\n",
            "Downloading: \"https://download.pytorch.org/models/vgg16-397923af.pth\" to /root/.cache/torch/hub/checkpoints/vgg16-397923af.pth\n",
            "100%|██████████| 528M/528M [00:08<00:00, 65.2MB/s]\n",
            "Epoch 1/5: 100%|██████████| 251/251 [02:02<00:00,  2.06it/s]\n"
          ]
        },
        {
          "output_type": "stream",
          "name": "stdout",
          "text": [
            "Epoch 1, Loss: 0.5498, Val Acc: 0.7682\n",
            "✅ Saved Best Model: vgg.pth (Val Acc: 0.7682)\n"
          ]
        },
        {
          "output_type": "stream",
          "name": "stderr",
          "text": [
            "Epoch 2/5: 100%|██████████| 251/251 [01:56<00:00,  2.15it/s]\n"
          ]
        },
        {
          "output_type": "stream",
          "name": "stdout",
          "text": [
            "Epoch 2, Loss: 0.4838, Val Acc: 0.7942\n",
            "✅ Saved Best Model: vgg.pth (Val Acc: 0.7942)\n"
          ]
        },
        {
          "output_type": "stream",
          "name": "stderr",
          "text": [
            "Epoch 3/5: 100%|██████████| 251/251 [01:53<00:00,  2.21it/s]\n"
          ]
        },
        {
          "output_type": "stream",
          "name": "stdout",
          "text": [
            "Epoch 3, Loss: 0.4603, Val Acc: 0.7992\n",
            "✅ Saved Best Model: vgg.pth (Val Acc: 0.7992)\n"
          ]
        },
        {
          "output_type": "stream",
          "name": "stderr",
          "text": [
            "Epoch 4/5: 100%|██████████| 251/251 [01:52<00:00,  2.22it/s]\n"
          ]
        },
        {
          "output_type": "stream",
          "name": "stdout",
          "text": [
            "Epoch 4, Loss: 0.4475, Val Acc: 0.8082\n",
            "✅ Saved Best Model: vgg.pth (Val Acc: 0.8082)\n"
          ]
        },
        {
          "output_type": "stream",
          "name": "stderr",
          "text": [
            "Epoch 5/5: 100%|██████████| 251/251 [01:53<00:00,  2.21it/s]\n"
          ]
        },
        {
          "output_type": "stream",
          "name": "stdout",
          "text": [
            "Epoch 5, Loss: 0.4448, Val Acc: 0.8042\n"
          ]
        },
        {
          "output_type": "stream",
          "name": "stderr",
          "text": [
            "/usr/local/lib/python3.11/dist-packages/torchvision/models/_utils.py:223: UserWarning: Arguments other than a weight enum or `None` for 'weights' are deprecated since 0.13 and may be removed in the future. The current behavior is equivalent to passing `weights=MobileNet_V2_Weights.IMAGENET1K_V1`. You can also use `weights=MobileNet_V2_Weights.DEFAULT` to get the most up-to-date weights.\n",
            "  warnings.warn(msg)\n",
            "Downloading: \"https://download.pytorch.org/models/mobilenet_v2-b0353104.pth\" to /root/.cache/torch/hub/checkpoints/mobilenet_v2-b0353104.pth\n",
            "100%|██████████| 13.6M/13.6M [00:00<00:00, 83.1MB/s]\n",
            "Epoch 1/5: 100%|██████████| 251/251 [01:26<00:00,  2.90it/s]\n"
          ]
        },
        {
          "output_type": "stream",
          "name": "stdout",
          "text": [
            "Epoch 1, Loss: 0.5329, Val Acc: 0.7872\n",
            "✅ Saved Best Model: mobilenet.pth (Val Acc: 0.7872)\n"
          ]
        },
        {
          "output_type": "stream",
          "name": "stderr",
          "text": [
            "Epoch 2/5: 100%|██████████| 251/251 [01:24<00:00,  2.98it/s]\n"
          ]
        },
        {
          "output_type": "stream",
          "name": "stdout",
          "text": [
            "Epoch 2, Loss: 0.4396, Val Acc: 0.8252\n",
            "✅ Saved Best Model: mobilenet.pth (Val Acc: 0.8252)\n"
          ]
        },
        {
          "output_type": "stream",
          "name": "stderr",
          "text": [
            "Epoch 3/5: 100%|██████████| 251/251 [01:23<00:00,  3.00it/s]\n"
          ]
        },
        {
          "output_type": "stream",
          "name": "stdout",
          "text": [
            "Epoch 3, Loss: 0.4109, Val Acc: 0.8312\n",
            "✅ Saved Best Model: mobilenet.pth (Val Acc: 0.8312)\n"
          ]
        },
        {
          "output_type": "stream",
          "name": "stderr",
          "text": [
            "Epoch 4/5: 100%|██████████| 251/251 [01:24<00:00,  2.99it/s]\n"
          ]
        },
        {
          "output_type": "stream",
          "name": "stdout",
          "text": [
            "Epoch 4, Loss: 0.3993, Val Acc: 0.8292\n"
          ]
        },
        {
          "output_type": "stream",
          "name": "stderr",
          "text": [
            "Epoch 5/5: 100%|██████████| 251/251 [01:23<00:00,  3.02it/s]\n"
          ]
        },
        {
          "output_type": "stream",
          "name": "stdout",
          "text": [
            "Epoch 5, Loss: 0.3922, Val Acc: 0.8362\n",
            "✅ Saved Best Model: mobilenet.pth (Val Acc: 0.8362)\n"
          ]
        },
        {
          "output_type": "stream",
          "name": "stderr",
          "text": [
            "/usr/local/lib/python3.11/dist-packages/torchvision/models/_utils.py:223: UserWarning: Arguments other than a weight enum or `None` for 'weights' are deprecated since 0.13 and may be removed in the future. The current behavior is equivalent to passing `weights=DenseNet121_Weights.IMAGENET1K_V1`. You can also use `weights=DenseNet121_Weights.DEFAULT` to get the most up-to-date weights.\n",
            "  warnings.warn(msg)\n",
            "Downloading: \"https://download.pytorch.org/models/densenet121-a639ec97.pth\" to /root/.cache/torch/hub/checkpoints/densenet121-a639ec97.pth\n",
            "100%|██████████| 30.8M/30.8M [00:00<00:00, 133MB/s]\n",
            "Epoch 1/5: 100%|██████████| 251/251 [01:39<00:00,  2.52it/s]\n"
          ]
        },
        {
          "output_type": "stream",
          "name": "stdout",
          "text": [
            "Epoch 1, Loss: 0.5745, Val Acc: 0.7463\n",
            "✅ Saved Best Model: densenet.pth (Val Acc: 0.7463)\n"
          ]
        },
        {
          "output_type": "stream",
          "name": "stderr",
          "text": [
            "Epoch 2/5: 100%|██████████| 251/251 [01:38<00:00,  2.55it/s]\n"
          ]
        },
        {
          "output_type": "stream",
          "name": "stdout",
          "text": [
            "Epoch 2, Loss: 0.4804, Val Acc: 0.8072\n",
            "✅ Saved Best Model: densenet.pth (Val Acc: 0.8072)\n"
          ]
        },
        {
          "output_type": "stream",
          "name": "stderr",
          "text": [
            "Epoch 3/5: 100%|██████████| 251/251 [01:40<00:00,  2.51it/s]\n"
          ]
        },
        {
          "output_type": "stream",
          "name": "stdout",
          "text": [
            "Epoch 3, Loss: 0.4386, Val Acc: 0.8212\n",
            "✅ Saved Best Model: densenet.pth (Val Acc: 0.8212)\n"
          ]
        },
        {
          "output_type": "stream",
          "name": "stderr",
          "text": [
            "Epoch 4/5: 100%|██████████| 251/251 [01:39<00:00,  2.52it/s]\n"
          ]
        },
        {
          "output_type": "stream",
          "name": "stdout",
          "text": [
            "Epoch 4, Loss: 0.4127, Val Acc: 0.8402\n",
            "✅ Saved Best Model: densenet.pth (Val Acc: 0.8402)\n"
          ]
        },
        {
          "output_type": "stream",
          "name": "stderr",
          "text": [
            "Epoch 5/5: 100%|██████████| 251/251 [01:39<00:00,  2.53it/s]\n"
          ]
        },
        {
          "output_type": "stream",
          "name": "stdout",
          "text": [
            "Epoch 5, Loss: 0.4015, Val Acc: 0.8432\n",
            "✅ Saved Best Model: densenet.pth (Val Acc: 0.8432)\n"
          ]
        },
        {
          "output_type": "stream",
          "name": "stderr",
          "text": [
            "/usr/local/lib/python3.11/dist-packages/torchvision/models/_utils.py:223: UserWarning: Arguments other than a weight enum or `None` for 'weights' are deprecated since 0.13 and may be removed in the future. The current behavior is equivalent to passing `weights=EfficientNet_B0_Weights.IMAGENET1K_V1`. You can also use `weights=EfficientNet_B0_Weights.DEFAULT` to get the most up-to-date weights.\n",
            "  warnings.warn(msg)\n",
            "Downloading: \"https://download.pytorch.org/models/efficientnet_b0_rwightman-7f5810bc.pth\" to /root/.cache/torch/hub/checkpoints/efficientnet_b0_rwightman-7f5810bc.pth\n",
            "100%|██████████| 20.5M/20.5M [00:00<00:00, 120MB/s] \n",
            "Epoch 1/5: 100%|██████████| 251/251 [01:28<00:00,  2.85it/s]\n"
          ]
        },
        {
          "output_type": "stream",
          "name": "stdout",
          "text": [
            "Epoch 1, Loss: 0.5951, Val Acc: 0.7572\n",
            "✅ Saved Best Model: efficientnet.pth (Val Acc: 0.7572)\n"
          ]
        },
        {
          "output_type": "stream",
          "name": "stderr",
          "text": [
            "Epoch 2/5: 100%|██████████| 251/251 [01:28<00:00,  2.83it/s]\n"
          ]
        },
        {
          "output_type": "stream",
          "name": "stdout",
          "text": [
            "Epoch 2, Loss: 0.5051, Val Acc: 0.7892\n",
            "✅ Saved Best Model: efficientnet.pth (Val Acc: 0.7892)\n"
          ]
        },
        {
          "output_type": "stream",
          "name": "stderr",
          "text": [
            "Epoch 3/5: 100%|██████████| 251/251 [01:27<00:00,  2.87it/s]\n"
          ]
        },
        {
          "output_type": "stream",
          "name": "stdout",
          "text": [
            "Epoch 3, Loss: 0.4656, Val Acc: 0.8062\n",
            "✅ Saved Best Model: efficientnet.pth (Val Acc: 0.8062)\n"
          ]
        },
        {
          "output_type": "stream",
          "name": "stderr",
          "text": [
            "Epoch 4/5: 100%|██████████| 251/251 [01:26<00:00,  2.89it/s]\n"
          ]
        },
        {
          "output_type": "stream",
          "name": "stdout",
          "text": [
            "Epoch 4, Loss: 0.4472, Val Acc: 0.8232\n",
            "✅ Saved Best Model: efficientnet.pth (Val Acc: 0.8232)\n"
          ]
        },
        {
          "output_type": "stream",
          "name": "stderr",
          "text": [
            "Epoch 5/5: 100%|██████████| 251/251 [01:26<00:00,  2.89it/s]\n"
          ]
        },
        {
          "output_type": "stream",
          "name": "stdout",
          "text": [
            "Epoch 5, Loss: 0.4371, Val Acc: 0.8252\n",
            "✅ Saved Best Model: efficientnet.pth (Val Acc: 0.8252)\n"
          ]
        },
        {
          "output_type": "stream",
          "name": "stderr",
          "text": [
            "/usr/local/lib/python3.11/dist-packages/torchvision/models/_utils.py:223: UserWarning: Arguments other than a weight enum or `None` for 'weights' are deprecated since 0.13 and may be removed in the future. The current behavior is equivalent to passing `weights=GoogLeNet_Weights.IMAGENET1K_V1`. You can also use `weights=GoogLeNet_Weights.DEFAULT` to get the most up-to-date weights.\n",
            "  warnings.warn(msg)\n"
          ]
        },
        {
          "output_type": "error",
          "ename": "ValueError",
          "evalue": "The parameter 'aux_logits' expected value True but got False instead.",
          "traceback": [
            "\u001b[0;31m---------------------------------------------------------------------------\u001b[0m",
            "\u001b[0;31mValueError\u001b[0m                                Traceback (most recent call last)",
            "\u001b[0;32m<ipython-input-40-1713265896>\u001b[0m in \u001b[0;36m<cell line: 0>\u001b[0;34m()\u001b[0m\n\u001b[1;32m      4\u001b[0m \u001b[0mtrain_model\u001b[0m\u001b[0;34m(\u001b[0m\u001b[0mget_model_densenet\u001b[0m\u001b[0;34m(\u001b[0m\u001b[0;34m)\u001b[0m\u001b[0;34m,\u001b[0m \u001b[0mtrain_loader\u001b[0m\u001b[0;34m,\u001b[0m \u001b[0mval_loader\u001b[0m\u001b[0;34m,\u001b[0m \u001b[0mnum_epochs\u001b[0m\u001b[0;34m=\u001b[0m\u001b[0;36m5\u001b[0m\u001b[0;34m,\u001b[0m \u001b[0mmodel_name\u001b[0m\u001b[0;34m=\u001b[0m\u001b[0;34m\"densenet.pth\"\u001b[0m\u001b[0;34m)\u001b[0m\u001b[0;34m\u001b[0m\u001b[0;34m\u001b[0m\u001b[0m\n\u001b[1;32m      5\u001b[0m \u001b[0mtrain_model\u001b[0m\u001b[0;34m(\u001b[0m\u001b[0mget_model_efficientnet\u001b[0m\u001b[0;34m(\u001b[0m\u001b[0;34m)\u001b[0m\u001b[0;34m,\u001b[0m \u001b[0mtrain_loader\u001b[0m\u001b[0;34m,\u001b[0m \u001b[0mval_loader\u001b[0m\u001b[0;34m,\u001b[0m \u001b[0mnum_epochs\u001b[0m\u001b[0;34m=\u001b[0m\u001b[0;36m5\u001b[0m\u001b[0;34m,\u001b[0m \u001b[0mmodel_name\u001b[0m\u001b[0;34m=\u001b[0m\u001b[0;34m\"efficientnet.pth\"\u001b[0m\u001b[0;34m)\u001b[0m\u001b[0;34m\u001b[0m\u001b[0;34m\u001b[0m\u001b[0m\n\u001b[0;32m----> 6\u001b[0;31m \u001b[0mtrain_model\u001b[0m\u001b[0;34m(\u001b[0m\u001b[0mget_model_googlenet\u001b[0m\u001b[0;34m(\u001b[0m\u001b[0;34m)\u001b[0m\u001b[0;34m,\u001b[0m \u001b[0mtrain_loader\u001b[0m\u001b[0;34m,\u001b[0m \u001b[0mval_loader\u001b[0m\u001b[0;34m,\u001b[0m \u001b[0mnum_epochs\u001b[0m\u001b[0;34m=\u001b[0m\u001b[0;36m5\u001b[0m\u001b[0;34m,\u001b[0m \u001b[0mmodel_name\u001b[0m\u001b[0;34m=\u001b[0m\u001b[0;34m\"googlenet.pth\"\u001b[0m\u001b[0;34m)\u001b[0m\u001b[0;34m\u001b[0m\u001b[0;34m\u001b[0m\u001b[0m\n\u001b[0m",
            "\u001b[0;32m<ipython-input-36-1811663860>\u001b[0m in \u001b[0;36mget_model_googlenet\u001b[0;34m()\u001b[0m\n\u001b[1;32m     35\u001b[0m \u001b[0;34m\u001b[0m\u001b[0m\n\u001b[1;32m     36\u001b[0m \u001b[0;32mdef\u001b[0m \u001b[0mget_model_googlenet\u001b[0m\u001b[0;34m(\u001b[0m\u001b[0;34m)\u001b[0m\u001b[0;34m:\u001b[0m\u001b[0;34m\u001b[0m\u001b[0;34m\u001b[0m\u001b[0m\n\u001b[0;32m---> 37\u001b[0;31m     \u001b[0mmodel\u001b[0m \u001b[0;34m=\u001b[0m \u001b[0mmodels\u001b[0m\u001b[0;34m.\u001b[0m\u001b[0mgooglenet\u001b[0m\u001b[0;34m(\u001b[0m\u001b[0mpretrained\u001b[0m\u001b[0;34m=\u001b[0m\u001b[0;32mTrue\u001b[0m\u001b[0;34m,\u001b[0m \u001b[0maux_logits\u001b[0m\u001b[0;34m=\u001b[0m\u001b[0;32mFalse\u001b[0m\u001b[0;34m)\u001b[0m\u001b[0;34m\u001b[0m\u001b[0;34m\u001b[0m\u001b[0m\n\u001b[0m\u001b[1;32m     38\u001b[0m     \u001b[0;32mfor\u001b[0m \u001b[0mparam\u001b[0m \u001b[0;32min\u001b[0m \u001b[0mmodel\u001b[0m\u001b[0;34m.\u001b[0m\u001b[0mparameters\u001b[0m\u001b[0;34m(\u001b[0m\u001b[0;34m)\u001b[0m\u001b[0;34m:\u001b[0m\u001b[0;34m\u001b[0m\u001b[0;34m\u001b[0m\u001b[0m\n\u001b[1;32m     39\u001b[0m         \u001b[0mparam\u001b[0m\u001b[0;34m.\u001b[0m\u001b[0mrequires_grad\u001b[0m \u001b[0;34m=\u001b[0m \u001b[0;32mFalse\u001b[0m\u001b[0;34m\u001b[0m\u001b[0;34m\u001b[0m\u001b[0m\n",
            "\u001b[0;32m/usr/local/lib/python3.11/dist-packages/torchvision/models/_utils.py\u001b[0m in \u001b[0;36mwrapper\u001b[0;34m(*args, **kwargs)\u001b[0m\n\u001b[1;32m    140\u001b[0m             \u001b[0mkwargs\u001b[0m\u001b[0;34m.\u001b[0m\u001b[0mupdate\u001b[0m\u001b[0;34m(\u001b[0m\u001b[0mkeyword_only_kwargs\u001b[0m\u001b[0;34m)\u001b[0m\u001b[0;34m\u001b[0m\u001b[0;34m\u001b[0m\u001b[0m\n\u001b[1;32m    141\u001b[0m \u001b[0;34m\u001b[0m\u001b[0m\n\u001b[0;32m--> 142\u001b[0;31m         \u001b[0;32mreturn\u001b[0m \u001b[0mfn\u001b[0m\u001b[0;34m(\u001b[0m\u001b[0;34m*\u001b[0m\u001b[0margs\u001b[0m\u001b[0;34m,\u001b[0m \u001b[0;34m**\u001b[0m\u001b[0mkwargs\u001b[0m\u001b[0;34m)\u001b[0m\u001b[0;34m\u001b[0m\u001b[0;34m\u001b[0m\u001b[0m\n\u001b[0m\u001b[1;32m    143\u001b[0m \u001b[0;34m\u001b[0m\u001b[0m\n\u001b[1;32m    144\u001b[0m     \u001b[0;32mreturn\u001b[0m \u001b[0mwrapper\u001b[0m\u001b[0;34m\u001b[0m\u001b[0;34m\u001b[0m\u001b[0m\n",
            "\u001b[0;32m/usr/local/lib/python3.11/dist-packages/torchvision/models/_utils.py\u001b[0m in \u001b[0;36minner_wrapper\u001b[0;34m(*args, **kwargs)\u001b[0m\n\u001b[1;32m    226\u001b[0m                 \u001b[0mkwargs\u001b[0m\u001b[0;34m[\u001b[0m\u001b[0mweights_param\u001b[0m\u001b[0;34m]\u001b[0m \u001b[0;34m=\u001b[0m \u001b[0mdefault_weights_arg\u001b[0m\u001b[0;34m\u001b[0m\u001b[0;34m\u001b[0m\u001b[0m\n\u001b[1;32m    227\u001b[0m \u001b[0;34m\u001b[0m\u001b[0m\n\u001b[0;32m--> 228\u001b[0;31m             \u001b[0;32mreturn\u001b[0m \u001b[0mbuilder\u001b[0m\u001b[0;34m(\u001b[0m\u001b[0;34m*\u001b[0m\u001b[0margs\u001b[0m\u001b[0;34m,\u001b[0m \u001b[0;34m**\u001b[0m\u001b[0mkwargs\u001b[0m\u001b[0;34m)\u001b[0m\u001b[0;34m\u001b[0m\u001b[0;34m\u001b[0m\u001b[0m\n\u001b[0m\u001b[1;32m    229\u001b[0m \u001b[0;34m\u001b[0m\u001b[0m\n\u001b[1;32m    230\u001b[0m         \u001b[0;32mreturn\u001b[0m \u001b[0minner_wrapper\u001b[0m\u001b[0;34m\u001b[0m\u001b[0;34m\u001b[0m\u001b[0m\n",
            "\u001b[0;32m/usr/local/lib/python3.11/dist-packages/torchvision/models/googlenet.py\u001b[0m in \u001b[0;36mgooglenet\u001b[0;34m(weights, progress, **kwargs)\u001b[0m\n\u001b[1;32m    326\u001b[0m         \u001b[0;32mif\u001b[0m \u001b[0;34m\"transform_input\"\u001b[0m \u001b[0;32mnot\u001b[0m \u001b[0;32min\u001b[0m \u001b[0mkwargs\u001b[0m\u001b[0;34m:\u001b[0m\u001b[0;34m\u001b[0m\u001b[0;34m\u001b[0m\u001b[0m\n\u001b[1;32m    327\u001b[0m             \u001b[0m_ovewrite_named_param\u001b[0m\u001b[0;34m(\u001b[0m\u001b[0mkwargs\u001b[0m\u001b[0;34m,\u001b[0m \u001b[0;34m\"transform_input\"\u001b[0m\u001b[0;34m,\u001b[0m \u001b[0;32mTrue\u001b[0m\u001b[0;34m)\u001b[0m\u001b[0;34m\u001b[0m\u001b[0;34m\u001b[0m\u001b[0m\n\u001b[0;32m--> 328\u001b[0;31m         \u001b[0m_ovewrite_named_param\u001b[0m\u001b[0;34m(\u001b[0m\u001b[0mkwargs\u001b[0m\u001b[0;34m,\u001b[0m \u001b[0;34m\"aux_logits\"\u001b[0m\u001b[0;34m,\u001b[0m \u001b[0;32mTrue\u001b[0m\u001b[0;34m)\u001b[0m\u001b[0;34m\u001b[0m\u001b[0;34m\u001b[0m\u001b[0m\n\u001b[0m\u001b[1;32m    329\u001b[0m         \u001b[0m_ovewrite_named_param\u001b[0m\u001b[0;34m(\u001b[0m\u001b[0mkwargs\u001b[0m\u001b[0;34m,\u001b[0m \u001b[0;34m\"init_weights\"\u001b[0m\u001b[0;34m,\u001b[0m \u001b[0;32mFalse\u001b[0m\u001b[0;34m)\u001b[0m\u001b[0;34m\u001b[0m\u001b[0;34m\u001b[0m\u001b[0m\n\u001b[1;32m    330\u001b[0m         \u001b[0m_ovewrite_named_param\u001b[0m\u001b[0;34m(\u001b[0m\u001b[0mkwargs\u001b[0m\u001b[0;34m,\u001b[0m \u001b[0;34m\"num_classes\"\u001b[0m\u001b[0;34m,\u001b[0m \u001b[0mlen\u001b[0m\u001b[0;34m(\u001b[0m\u001b[0mweights\u001b[0m\u001b[0;34m.\u001b[0m\u001b[0mmeta\u001b[0m\u001b[0;34m[\u001b[0m\u001b[0;34m\"categories\"\u001b[0m\u001b[0;34m]\u001b[0m\u001b[0;34m)\u001b[0m\u001b[0;34m)\u001b[0m\u001b[0;34m\u001b[0m\u001b[0;34m\u001b[0m\u001b[0m\n",
            "\u001b[0;32m/usr/local/lib/python3.11/dist-packages/torchvision/models/_utils.py\u001b[0m in \u001b[0;36m_ovewrite_named_param\u001b[0;34m(kwargs, param, new_value)\u001b[0m\n\u001b[1;32m    236\u001b[0m     \u001b[0;32mif\u001b[0m \u001b[0mparam\u001b[0m \u001b[0;32min\u001b[0m \u001b[0mkwargs\u001b[0m\u001b[0;34m:\u001b[0m\u001b[0;34m\u001b[0m\u001b[0;34m\u001b[0m\u001b[0m\n\u001b[1;32m    237\u001b[0m         \u001b[0;32mif\u001b[0m \u001b[0mkwargs\u001b[0m\u001b[0;34m[\u001b[0m\u001b[0mparam\u001b[0m\u001b[0;34m]\u001b[0m \u001b[0;34m!=\u001b[0m \u001b[0mnew_value\u001b[0m\u001b[0;34m:\u001b[0m\u001b[0;34m\u001b[0m\u001b[0;34m\u001b[0m\u001b[0m\n\u001b[0;32m--> 238\u001b[0;31m             \u001b[0;32mraise\u001b[0m \u001b[0mValueError\u001b[0m\u001b[0;34m(\u001b[0m\u001b[0;34mf\"The parameter '{param}' expected value {new_value} but got {kwargs[param]} instead.\"\u001b[0m\u001b[0;34m)\u001b[0m\u001b[0;34m\u001b[0m\u001b[0;34m\u001b[0m\u001b[0m\n\u001b[0m\u001b[1;32m    239\u001b[0m     \u001b[0;32melse\u001b[0m\u001b[0;34m:\u001b[0m\u001b[0;34m\u001b[0m\u001b[0;34m\u001b[0m\u001b[0m\n\u001b[1;32m    240\u001b[0m         \u001b[0mkwargs\u001b[0m\u001b[0;34m[\u001b[0m\u001b[0mparam\u001b[0m\u001b[0;34m]\u001b[0m \u001b[0;34m=\u001b[0m \u001b[0mnew_value\u001b[0m\u001b[0;34m\u001b[0m\u001b[0;34m\u001b[0m\u001b[0m\n",
            "\u001b[0;31mValueError\u001b[0m: The parameter 'aux_logits' expected value True but got False instead."
          ]
        }
      ]
    },
    {
      "cell_type": "code",
      "source": [
        "def train_model(model, train_loader, val_loader, num_epochs=5, model_name=\"model.pth\", device=None):\n",
        "    import torch\n",
        "    from torch import nn, optim\n",
        "    from tqdm import tqdm\n",
        "\n",
        "    if device is None:\n",
        "        device = torch.device(\"cuda\" if torch.cuda.is_available() else \"cpu\")\n",
        "\n",
        "    model = model.to(device)\n",
        "    criterion = nn.BCEWithLogitsLoss()\n",
        "    optimizer = optim.Adam(model.parameters(), lr=1e-4)\n",
        "\n",
        "    history = {'train_loss': [], 'train_acc': [], 'val_loss': [], 'val_acc': []}\n",
        "    best_val_acc = 0\n",
        "\n",
        "    for epoch in range(num_epochs):\n",
        "        model.train()\n",
        "        running_loss = 0\n",
        "        correct = 0\n",
        "        total = 0\n",
        "\n",
        "        loop = tqdm(train_loader, desc=f\"Epoch {epoch+1}/{num_epochs}\")\n",
        "        for images, labels in loop:\n",
        "            images = images.to(device)\n",
        "            labels = labels.float().to(device)\n",
        "\n",
        "            optimizer.zero_grad()\n",
        "            outputs = model(images)\n",
        "\n",
        "            if isinstance(outputs, tuple):\n",
        "                main_output, aux1, aux2 = outputs\n",
        "                loss1 = criterion(main_output.squeeze(), labels)\n",
        "                loss2 = criterion(aux1.squeeze(), labels)\n",
        "                loss3 = criterion(aux2.squeeze(), labels)\n",
        "                loss = loss1 + 0.3 * (loss2 + loss3)\n",
        "                preds = torch.round(torch.sigmoid(main_output))\n",
        "            else:\n",
        "                loss = criterion(outputs.squeeze(), labels)\n",
        "                preds = torch.round(torch.sigmoid(outputs))\n",
        "\n",
        "            loss.backward()\n",
        "            optimizer.step()\n",
        "\n",
        "            running_loss += loss.item() * labels.size(0)\n",
        "            correct += (preds.squeeze() == labels).sum().item()\n",
        "            total += labels.size(0)\n",
        "\n",
        "        train_loss = running_loss / total\n",
        "        train_acc = correct / total\n",
        "        history['train_loss'].append(train_loss)\n",
        "        history['train_acc'].append(train_acc)\n",
        "\n",
        "        # Validation\n",
        "        model.eval()\n",
        "        val_loss = 0\n",
        "        val_correct = 0\n",
        "        val_total = 0\n",
        "\n",
        "        with torch.no_grad():\n",
        "            for images, labels in val_loader:\n",
        "                images = images.to(device)\n",
        "                labels = labels.float().to(device)\n",
        "                outputs = model(images)\n",
        "\n",
        "                if isinstance(outputs, tuple):\n",
        "                    outputs = outputs[0]\n",
        "\n",
        "                loss = criterion(outputs.squeeze(), labels)\n",
        "                preds = torch.round(torch.sigmoid(outputs))\n",
        "                val_loss += loss.item() * labels.size(0)\n",
        "                val_correct += (preds.squeeze() == labels).sum().item()\n",
        "                val_total += labels.size(0)\n",
        "\n",
        "        val_loss /= val_total\n",
        "        val_acc = val_correct / val_total\n",
        "        history['val_loss'].append(val_loss)\n",
        "        history['val_acc'].append(val_acc)\n",
        "\n",
        "        print(f\"Epoch {epoch+1}: Train Loss={train_loss:.4f}, Acc={train_acc:.4f} | Val Loss={val_loss:.4f}, Acc={val_acc:.4f}\")\n",
        "\n",
        "        if val_acc > best_val_acc:\n",
        "            best_val_acc = val_acc\n",
        "            torch.save(model.state_dict(), model_name)\n",
        "\n",
        "    return history\n"
      ],
      "metadata": {
        "id": "Ou15e8IfllKo"
      },
      "execution_count": null,
      "outputs": []
    },
    {
      "cell_type": "code",
      "source": [
        "train_model(get_model_googlenet(), train_loader, val_loader, num_epochs=5, model_name=\"googlenet.pth\")"
      ],
      "metadata": {
        "colab": {
          "base_uri": "https://localhost:8080/"
        },
        "id": "FzHLHJOglcrh",
        "outputId": "8ccaa85f-b47a-4940-fa3e-f8c0e3721454"
      },
      "execution_count": null,
      "outputs": [
        {
          "output_type": "stream",
          "name": "stderr",
          "text": [
            "Epoch 1/5: 100%|██████████| 251/251 [01:42<00:00,  2.45it/s]\n"
          ]
        },
        {
          "output_type": "stream",
          "name": "stdout",
          "text": [
            "Epoch 1: Train Loss=0.5842, Acc=0.8422 | Val Loss=0.2819, Acc=0.8701\n"
          ]
        },
        {
          "output_type": "stream",
          "name": "stderr",
          "text": [
            "Epoch 2/5: 100%|██████████| 251/251 [01:43<00:00,  2.44it/s]\n"
          ]
        },
        {
          "output_type": "stream",
          "name": "stdout",
          "text": [
            "Epoch 2: Train Loss=0.3873, Acc=0.9126 | Val Loss=0.2868, Acc=0.8891\n"
          ]
        },
        {
          "output_type": "stream",
          "name": "stderr",
          "text": [
            "Epoch 3/5: 100%|██████████| 251/251 [01:44<00:00,  2.41it/s]\n"
          ]
        },
        {
          "output_type": "stream",
          "name": "stdout",
          "text": [
            "Epoch 3: Train Loss=0.2346, Acc=0.9637 | Val Loss=0.3412, Acc=0.8771\n"
          ]
        },
        {
          "output_type": "stream",
          "name": "stderr",
          "text": [
            "Epoch 4/5: 100%|██████████| 251/251 [01:43<00:00,  2.43it/s]\n"
          ]
        },
        {
          "output_type": "stream",
          "name": "stdout",
          "text": [
            "Epoch 4: Train Loss=0.1467, Acc=0.9834 | Val Loss=0.3164, Acc=0.9001\n"
          ]
        },
        {
          "output_type": "stream",
          "name": "stderr",
          "text": [
            "Epoch 5/5: 100%|██████████| 251/251 [01:42<00:00,  2.44it/s]\n"
          ]
        },
        {
          "output_type": "stream",
          "name": "stdout",
          "text": [
            "Epoch 5: Train Loss=0.1079, Acc=0.9894 | Val Loss=0.3642, Acc=0.8951\n"
          ]
        },
        {
          "output_type": "execute_result",
          "data": {
            "text/plain": [
              "{'train_loss': [0.584228353549764,\n",
              "  0.387290316674332,\n",
              "  0.23460579120809294,\n",
              "  0.1466945442210658,\n",
              "  0.10787330329031332],\n",
              " 'train_acc': [0.8422366450324513,\n",
              "  0.9126310534198702,\n",
              "  0.9636794807788317,\n",
              "  0.9833999001497753,\n",
              "  0.9893909136295557],\n",
              " 'val_loss': [0.28186419589089584,\n",
              "  0.28675299937968013,\n",
              "  0.34115114840832383,\n",
              "  0.3163536192772986,\n",
              "  0.36422774889371495],\n",
              " 'val_acc': [0.8701298701298701,\n",
              "  0.8891108891108891,\n",
              "  0.8771228771228772,\n",
              "  0.9000999000999002,\n",
              "  0.8951048951048951]}"
            ]
          },
          "metadata": {},
          "execution_count": 45
        }
      ]
    },
    {
      "cell_type": "code",
      "source": [
        "import numpy as np\n",
        "import torch\n",
        "import matplotlib.pyplot as plt\n",
        "import torch.nn.functional as F\n",
        "from sklearn.metrics import accuracy_score, log_loss\n",
        "import torchvision.models as models  # RE-IMPORT if overwritten\n",
        "\n",
        "# === Get predictions from ensemble ===\n",
        "def get_all_preds(model_list, loader, device):\n",
        "    soft_outputs = []\n",
        "    hard_outputs = []\n",
        "    y_true = []\n",
        "\n",
        "    for model in model_list:\n",
        "        model.eval()\n",
        "        model.to(device)\n",
        "\n",
        "    with torch.no_grad():\n",
        "        for images, labels in loader:\n",
        "            images = images.to(device)\n",
        "            labels = labels.to(device).float()\n",
        "            y_true.extend(labels.cpu().numpy())\n",
        "\n",
        "            probs = []\n",
        "            for model in model_list:\n",
        "                output = model(images)\n",
        "                if isinstance(output, tuple):  # For GoogLeNet\n",
        "                    output = output[0]\n",
        "                prob = torch.sigmoid(output).squeeze()\n",
        "                probs.append(prob.cpu().numpy())\n",
        "\n",
        "            probs = np.array(probs)\n",
        "            avg_probs = np.mean(probs, axis=0)\n",
        "            majority_votes = np.round(np.mean(np.round(probs), axis=0))\n",
        "\n",
        "            soft_outputs.extend(avg_probs)\n",
        "            hard_outputs.extend(majority_votes)\n",
        "\n",
        "    return np.array(y_true), np.array(soft_outputs), np.array(hard_outputs)\n",
        "\n",
        "# === Compute accuracy and loss ===\n",
        "def compute_metrics(y_true, y_pred_probs, y_pred_labels):\n",
        "    acc = accuracy_score(y_true, y_pred_labels)\n",
        "    loss = log_loss(y_true, y_pred_probs, labels=[0,1])\n",
        "    return acc, loss\n",
        "\n",
        "# === Load models freshly here ===\n",
        "def get_model_resnet():\n",
        "    model = models.resnet18(pretrained=True)\n",
        "    for param in model.parameters():\n",
        "        param.requires_grad = False\n",
        "    model.fc = torch.nn.Sequential(torch.nn.Dropout(0.5), torch.nn.Linear(model.fc.in_features, 1))\n",
        "    return model\n",
        "\n",
        "def get_model_googlenet():\n",
        "    model = models.googlenet(pretrained=True, aux_logits=True)\n",
        "    for param in model.parameters():\n",
        "        param.requires_grad = False\n",
        "    model.fc = torch.nn.Sequential(torch.nn.Dropout(0.5), torch.nn.Linear(model.fc.in_features, 1))\n",
        "    return model\n",
        "\n",
        "def get_model_densenet():\n",
        "    model = models.densenet121(pretrained=True)\n",
        "    for param in model.parameters():\n",
        "        param.requires_grad = False\n",
        "    model.classifier = torch.nn.Sequential(torch.nn.Dropout(0.5), torch.nn.Linear(model.classifier.in_features, 1))\n",
        "    return model\n",
        "\n",
        "def get_model_mobilenet():\n",
        "    model = models.mobilenet_v2(pretrained=True)\n",
        "    for param in model.parameters():\n",
        "        param.requires_grad = False\n",
        "    model.classifier[1] = torch.nn.Sequential(torch.nn.Dropout(0.5), torch.nn.Linear(model.classifier[1].in_features, 1))\n",
        "    return model\n",
        "\n",
        "def get_model_vgg():\n",
        "    model = models.vgg16(pretrained=True)\n",
        "    for param in model.parameters():\n",
        "        param.requires_grad = False\n",
        "    model.classifier[6] = torch.nn.Sequential(torch.nn.Dropout(0.5), torch.nn.Linear(model.classifier[6].in_features, 1))\n",
        "    return model\n",
        "\n",
        "def get_model_efficientnet():\n",
        "    model = models.efficientnet_b0(pretrained=True)\n",
        "    for param in model.parameters():\n",
        "        param.requires_grad = False\n",
        "    model.classifier[1] = torch.nn.Sequential(torch.nn.Dropout(0.5), torch.nn.Linear(model.classifier[1].in_features, 1))\n",
        "    return model\n",
        "\n",
        "# === Create ensemble ===\n",
        "ensemble_models = [\n",
        "    get_model_resnet(),\n",
        "    get_model_googlenet(),\n",
        "    get_model_densenet(),\n",
        "    get_model_mobilenet(),\n",
        "    get_model_vgg(),\n",
        "    get_model_efficientnet()\n",
        "]\n",
        "\n",
        "device = torch.device(\"cuda\" if torch.cuda.is_available() else \"cpu\")\n",
        "for model in ensemble_models:\n",
        "    model.to(device)\n",
        "\n",
        "# === Evaluate on Train Set ===\n",
        "y_true_train, y_soft_train, y_hard_train = get_all_preds(ensemble_models, train_loader, device)\n",
        "train_acc, train_loss = compute_metrics(y_true_train, y_soft_train, y_hard_train)\n",
        "\n",
        "# === Evaluate on Test Set ===\n",
        "y_true_test, y_soft_test, y_hard_test = get_all_preds(ensemble_models, test_loader, device)\n",
        "test_acc, test_loss = compute_metrics(y_true_test, y_soft_test, y_hard_test)\n",
        "\n",
        "# === Print all metrics ===\n",
        "print(\"\\n====== FINAL ENSEMBLE METRICS ======\")\n",
        "print(f\"Training Accuracy: {train_acc:.4f}\")\n",
        "print(f\"Training Loss:     {train_loss:.4f}\")\n",
        "print(f\"Testing Accuracy:  {test_acc:.4f}\")\n",
        "print(f\"Testing Loss:      {test_loss:.4f}\")\n",
        "\n",
        "# === Plot Accuracy and Loss ===\n",
        "labels = [\"Train\", \"Test\"]\n",
        "accuracies = [train_acc, test_acc]\n",
        "losses = [train_loss, test_loss]\n",
        "\n",
        "plt.figure(figsize=(12, 5))\n",
        "\n",
        "plt.subplot(1, 2, 1)\n",
        "plt.bar(labels, accuracies, color=['skyblue', 'orange'])\n",
        "plt.title('Ensemble Accuracy')\n",
        "plt.ylim(0, 1)\n",
        "plt.ylabel('Accuracy')\n",
        "\n",
        "plt.subplot(1, 2, 2)\n",
        "plt.bar(labels, losses, color=['skyblue', 'orange'])\n",
        "plt.title('Ensemble Loss')\n",
        "plt.ylabel('Log Loss')\n",
        "\n",
        "plt.tight_layout()\n",
        "plt.show()\n"
      ],
      "metadata": {
        "colab": {
          "base_uri": "https://localhost:8080/",
          "height": 882
        },
        "id": "YyYdzXjBpa6l",
        "outputId": "5d14dc7b-08ed-49da-db68-9b160768055a"
      },
      "execution_count": null,
      "outputs": [
        {
          "output_type": "stream",
          "name": "stderr",
          "text": [
            "/usr/local/lib/python3.11/dist-packages/torchvision/models/_utils.py:208: UserWarning: The parameter 'pretrained' is deprecated since 0.13 and may be removed in the future, please use 'weights' instead.\n",
            "  warnings.warn(\n",
            "/usr/local/lib/python3.11/dist-packages/torchvision/models/_utils.py:223: UserWarning: Arguments other than a weight enum or `None` for 'weights' are deprecated since 0.13 and may be removed in the future. The current behavior is equivalent to passing `weights=ResNet18_Weights.IMAGENET1K_V1`. You can also use `weights=ResNet18_Weights.DEFAULT` to get the most up-to-date weights.\n",
            "  warnings.warn(msg)\n",
            "/usr/local/lib/python3.11/dist-packages/torchvision/models/_utils.py:223: UserWarning: Arguments other than a weight enum or `None` for 'weights' are deprecated since 0.13 and may be removed in the future. The current behavior is equivalent to passing `weights=GoogLeNet_Weights.IMAGENET1K_V1`. You can also use `weights=GoogLeNet_Weights.DEFAULT` to get the most up-to-date weights.\n",
            "  warnings.warn(msg)\n",
            "/usr/local/lib/python3.11/dist-packages/torchvision/models/googlenet.py:341: UserWarning: auxiliary heads in the pretrained googlenet model are NOT pretrained, so make sure to train them\n",
            "  warnings.warn(\n",
            "/usr/local/lib/python3.11/dist-packages/torchvision/models/_utils.py:223: UserWarning: Arguments other than a weight enum or `None` for 'weights' are deprecated since 0.13 and may be removed in the future. The current behavior is equivalent to passing `weights=DenseNet121_Weights.IMAGENET1K_V1`. You can also use `weights=DenseNet121_Weights.DEFAULT` to get the most up-to-date weights.\n",
            "  warnings.warn(msg)\n",
            "/usr/local/lib/python3.11/dist-packages/torchvision/models/_utils.py:223: UserWarning: Arguments other than a weight enum or `None` for 'weights' are deprecated since 0.13 and may be removed in the future. The current behavior is equivalent to passing `weights=MobileNet_V2_Weights.IMAGENET1K_V1`. You can also use `weights=MobileNet_V2_Weights.DEFAULT` to get the most up-to-date weights.\n",
            "  warnings.warn(msg)\n",
            "/usr/local/lib/python3.11/dist-packages/torchvision/models/_utils.py:223: UserWarning: Arguments other than a weight enum or `None` for 'weights' are deprecated since 0.13 and may be removed in the future. The current behavior is equivalent to passing `weights=VGG16_Weights.IMAGENET1K_V1`. You can also use `weights=VGG16_Weights.DEFAULT` to get the most up-to-date weights.\n",
            "  warnings.warn(msg)\n",
            "/usr/local/lib/python3.11/dist-packages/torchvision/models/_utils.py:223: UserWarning: Arguments other than a weight enum or `None` for 'weights' are deprecated since 0.13 and may be removed in the future. The current behavior is equivalent to passing `weights=EfficientNet_B0_Weights.IMAGENET1K_V1`. You can also use `weights=EfficientNet_B0_Weights.DEFAULT` to get the most up-to-date weights.\n",
            "  warnings.warn(msg)\n"
          ]
        },
        {
          "output_type": "stream",
          "name": "stdout",
          "text": [
            "\n",
            "====== FINAL ENSEMBLE METRICS ======\n",
            "Training Accuracy: 0.5728\n",
            "Training Loss:     0.6913\n",
            "Testing Accuracy:  0.5439\n",
            "Testing Loss:      0.6922\n"
          ]
        },
        {
          "output_type": "display_data",
          "data": {
            "text/plain": [
              "<Figure size 1200x500 with 2 Axes>"
            ],
            "image/png": "[encoded data removed]"
          },
          "metadata": {}
        }
      ]
    },
    {
      "cell_type": "code",
      "source": [
        "import matplotlib.pyplot as plt\n",
        "\n",
        "def plot_ensemble_metrics(soft_train_acc, soft_train_loss, soft_test_acc, soft_test_loss, hard_test_acc):\n",
        "    labels = ['Train Acc', 'Train Loss', 'Test Acc', 'Test Loss']\n",
        "    soft = [soft_train_acc, soft_train_loss, soft_test_acc, soft_test_loss]\n",
        "    hard = [hard_test_acc, None, hard_test_acc, None]  # Loss not available\n",
        "\n",
        "    x = np.arange(len(labels))\n",
        "    width = 0.35\n",
        "\n",
        "    fig, ax = plt.subplots()\n",
        "    ax.bar(x - width/2, soft, width, label='Soft Voting')\n",
        "    ax.bar(x + width/2, [val if val is not None else 0 for val in hard], width, label='Hard Voting', hatch='//')\n",
        "\n",
        "    ax.set_ylabel('Score')\n",
        "    ax.set_title('Ensemble Metrics')\n",
        "    ax.set_xticks(x)\n",
        "    ax.set_xticklabels(labels)\n",
        "    ax.legend()\n",
        "    plt.ylim([0, 1])\n",
        "    plt.show()\n"
      ],
      "metadata": {
        "id": "pG6E-DTFaaaS"
      },
      "execution_count": null,
      "outputs": []
    }
  ],
  "metadata": {
    "colab": {
      "provenance": [],
      "gpuType": "T4"
    },
    "kernelspec": {
      "display_name": "Python 3",
      "name": "python3"
    },
    "language_info": {
      "name": "python"
    },
    "accelerator": "GPU"
  },
  "nbformat": 4,
  "nbformat_minor": 0
}